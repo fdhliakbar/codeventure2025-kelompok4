{
 "cells": [
  {
   "cell_type": "markdown",
   "id": "93f4b48e",
   "metadata": {},
   "source": [
    "# Materi Sesi Pertama dari Silvia Larasatul"
   ]
  },
  {
   "cell_type": "markdown",
   "id": "c0c8c427",
   "metadata": {},
   "source": [
    "## Variable & Data Types"
   ]
  },
  {
   "cell_type": "code",
   "execution_count": 3,
   "id": "c5f15bff",
   "metadata": {},
   "outputs": [],
   "source": [
    "myName = \"Prabowo\"\n",
    "myHobby = \"programming\"\n",
    "\n",
    "# List\n",
    "myHobbies = [\"programming\", \"reading\", \"gaming\"]"
   ]
  },
  {
   "cell_type": "code",
   "execution_count": 4,
   "id": "86daf4a4",
   "metadata": {},
   "outputs": [
    {
     "name": "stdout",
     "output_type": "stream",
     "text": [
      "Nama saya adalah Prabowo. Saya suka programming.\n",
      "Hobi saya adalah programming, reading, dan gaming.\n"
     ]
    }
   ],
   "source": [
    "print(f\"Nama saya adalah {myName}. Saya suka {myHobby}.\")\n",
    "print(f\"Hobi saya adalah {myHobbies[0]}, {myHobbies[1]}, dan {myHobbies[2]}.\")"
   ]
  },
  {
   "cell_type": "code",
   "execution_count": 6,
   "id": "2cbc17b0",
   "metadata": {},
   "outputs": [
    {
     "name": "stdout",
     "output_type": "stream",
     "text": [
      "Nama teman saya adalah {'Satria', 'Fahrezi', 'Hanif', 'Fadhli', 'Ihsan', 'Naufal'}.\n"
     ]
    }
   ],
   "source": [
    "myFriends = {\"Fadhli\", \"Naufal\", \"Fahrezi\", \"Ihsan\", \"Hanif\", \"Satria\"}\n",
    "print(f\"Nama teman saya adalah {myFriends}.\")"
   ]
  },
  {
   "cell_type": "code",
   "execution_count": 12,
   "id": "b810bdfc",
   "metadata": {},
   "outputs": [
    {
     "data": {
      "text/plain": [
       "set"
      ]
     },
     "execution_count": 12,
     "metadata": {},
     "output_type": "execute_result"
    }
   ],
   "source": [
    "type(myFriends)"
   ]
  },
  {
   "cell_type": "markdown",
   "id": "ec8f2314",
   "metadata": {},
   "source": [
    "## Percabangan\n",
    "\n",
    "<img src=\"https://cdn.educba.com/academy/wp-content/uploads/2019/09/Flowchart-of-If-Else-Statement.png\">"
   ]
  },
  {
   "cell_type": "code",
   "execution_count": 15,
   "id": "31b3f569",
   "metadata": {},
   "outputs": [
    {
     "name": "stdout",
     "output_type": "stream",
     "text": [
      "Saya punya banyak teman.\n"
     ]
    }
   ],
   "source": [
    "totalFriends = len(myFriends)\n",
    "\n",
    "if totalFriends > 5:\n",
    "    print(\"Saya punya banyak teman.\")\n",
    "elif totalFriends == 5:\n",
    "    print(\"Saya punya lima teman.\")\n",
    "else:\n",
    "    print(\"Saya punya sedikit teman.\")"
   ]
  },
  {
   "cell_type": "markdown",
   "id": "edfacea8",
   "metadata": {},
   "source": [
    "## Looping"
   ]
  },
  {
   "cell_type": "markdown",
   "id": "da635395",
   "metadata": {},
   "source": [
    "<img src=\"https://www.codingem.com/wp-content/uploads/2021/09/flowchart-for-loop.003-1536x864.jpeg\">"
   ]
  },
  {
   "cell_type": "code",
   "execution_count": 19,
   "id": "d5dfc859",
   "metadata": {},
   "outputs": [
    {
     "name": "stdout",
     "output_type": "stream",
     "text": [
      "Nama teman saya adalah Satria.\n",
      "Nama teman saya adalah Fahrezi.\n",
      "Nama teman saya adalah Hanif.\n",
      "Nama teman saya adalah Fadhli.\n",
      "Nama teman saya adalah Ihsan.\n",
      "Nama teman saya adalah Naufal.\n",
      "\n",
      "Jumlah teman saya adalah 6 orang.\n"
     ]
    }
   ],
   "source": [
    "for friend in myFriends:\n",
    "    print(f\"Nama teman saya adalah {friend}.\")\n",
    "\n",
    "print(f\"\\nJumlah teman saya adalah {totalFriends} orang.\")"
   ]
  },
  {
   "cell_type": "markdown",
   "id": "a35641c9",
   "metadata": {},
   "source": [
    "## Data Structures"
   ]
  },
  {
   "cell_type": "code",
   "execution_count": 20,
   "id": "39baa6ae",
   "metadata": {},
   "outputs": [
    {
     "name": "stdout",
     "output_type": "stream",
     "text": [
      "Hobi saya sekarang adalah ['programming', 'reading', 'gaming', 'cooking'].\n",
      "Hobi saya sekarang adalah ['programming', 'reading', 'cooking'].\n",
      "Hobi saya yang sudah diurutkan adalah ['cooking', 'programming', 'reading'].\n"
     ]
    }
   ],
   "source": [
    "myHobbies.append(\"cooking\")\n",
    "print(f\"Hobi saya sekarang adalah {myHobbies}.\")\n",
    "\n",
    "myHobbies.remove(\"gaming\")\n",
    "print(f\"Hobi saya sekarang adalah {myHobbies}.\")\n",
    "\n",
    "myHobbies.sort()\n",
    "print(f\"Hobi saya yang sudah diurutkan adalah {myHobbies}.\")"
   ]
  },
  {
   "cell_type": "code",
   "execution_count": 21,
   "id": "6c5042ce",
   "metadata": {},
   "outputs": [
    {
     "data": {
      "text/plain": [
       "list"
      ]
     },
     "execution_count": 21,
     "metadata": {},
     "output_type": "execute_result"
    }
   ],
   "source": [
    "type(myHobbies)"
   ]
  },
  {
   "cell_type": "markdown",
   "id": "84c8de57",
   "metadata": {},
   "source": [
    "## Terima Kasih"
   ]
  }
 ],
 "metadata": {
  "kernelspec": {
   "display_name": "Python 3",
   "language": "python",
   "name": "python3"
  },
  "language_info": {
   "codemirror_mode": {
    "name": "ipython",
    "version": 3
   },
   "file_extension": ".py",
   "mimetype": "text/x-python",
   "name": "python",
   "nbconvert_exporter": "python",
   "pygments_lexer": "ipython3",
   "version": "3.13.3"
  }
 },
 "nbformat": 4,
 "nbformat_minor": 5
}
