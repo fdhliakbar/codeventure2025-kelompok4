{
 "cells": [
  {
   "cell_type": "code",
   "execution_count": null,
   "id": "c5f15bff",
   "metadata": {},
   "outputs": [],
   "source": [
    "myName = \"Denis\""
   ]
  },
  {
   "cell_type": "markdown",
   "id": "ec8f2314",
   "metadata": {},
   "source": [
    "## Percabangan\n",
    "\n",
    "<img src=\"https://cdn.educba.com/academy/wp-content/uploads/2019/09/Flowchart-of-If-Else-Statement.png\">"
   ]
  },
  {
   "cell_type": "code",
   "execution_count": null,
   "id": "31b3f569",
   "metadata": {},
   "outputs": [],
   "source": []
  }
 ],
 "metadata": {
  "language_info": {
   "name": "python"
  }
 },
 "nbformat": 4,
 "nbformat_minor": 5
}
