{
 "cells": [
  {
   "cell_type": "markdown",
   "id": "477ab28b",
   "metadata": {},
   "source": [
    "## Materi yang Dibawakan Oleh Mba Mutia"
   ]
  },
  {
   "cell_type": "code",
   "execution_count": 1,
   "id": "a5646738",
   "metadata": {},
   "outputs": [],
   "source": [
    "import pandas as pd\n",
    "import matplotlib.pyplot as plt\n",
    "import seaborn as sns"
   ]
  },
  {
   "cell_type": "markdown",
   "id": "3b5d0ace",
   "metadata": {},
   "source": [
    "### Membaca File CSV Untuk di Analisis\n",
    "disini menggunakan dataset **Fruit Sales Data** di dataset/Fruit Sales Data.csv"
   ]
  },
  {
   "cell_type": "code",
   "execution_count": 2,
   "id": "505282c3",
   "metadata": {},
   "outputs": [
    {
     "data": {
      "text/html": [
       "<div>\n",
       "<style scoped>\n",
       "    .dataframe tbody tr th:only-of-type {\n",
       "        vertical-align: middle;\n",
       "    }\n",
       "\n",
       "    .dataframe tbody tr th {\n",
       "        vertical-align: top;\n",
       "    }\n",
       "\n",
       "    .dataframe thead th {\n",
       "        text-align: right;\n",
       "    }\n",
       "</style>\n",
       "<table border=\"1\" class=\"dataframe\">\n",
       "  <thead>\n",
       "    <tr style=\"text-align: right;\">\n",
       "      <th></th>\n",
       "      <th>Fruit_Name</th>\n",
       "      <th>Weight_in_Kg</th>\n",
       "      <th>Total_Cost</th>\n",
       "      <th>Purchased</th>\n",
       "    </tr>\n",
       "  </thead>\n",
       "  <tbody>\n",
       "    <tr>\n",
       "      <th>0</th>\n",
       "      <td>Apple</td>\n",
       "      <td>44.0</td>\n",
       "      <td>72000.0</td>\n",
       "      <td>No</td>\n",
       "    </tr>\n",
       "    <tr>\n",
       "      <th>1</th>\n",
       "      <td>Mango</td>\n",
       "      <td>27.0</td>\n",
       "      <td>48000.0</td>\n",
       "      <td>Yes</td>\n",
       "    </tr>\n",
       "    <tr>\n",
       "      <th>2</th>\n",
       "      <td>Orange</td>\n",
       "      <td>30.0</td>\n",
       "      <td>54000.0</td>\n",
       "      <td>No</td>\n",
       "    </tr>\n",
       "    <tr>\n",
       "      <th>3</th>\n",
       "      <td>Strawberry</td>\n",
       "      <td>38.0</td>\n",
       "      <td>61000.0</td>\n",
       "      <td>No</td>\n",
       "    </tr>\n",
       "    <tr>\n",
       "      <th>4</th>\n",
       "      <td>Orange</td>\n",
       "      <td>40.0</td>\n",
       "      <td>NaN</td>\n",
       "      <td>Yes</td>\n",
       "    </tr>\n",
       "    <tr>\n",
       "      <th>5</th>\n",
       "      <td>Mango</td>\n",
       "      <td>35.0</td>\n",
       "      <td>58000.0</td>\n",
       "      <td>Yes</td>\n",
       "    </tr>\n",
       "    <tr>\n",
       "      <th>6</th>\n",
       "      <td>Apple</td>\n",
       "      <td>NaN</td>\n",
       "      <td>52000.0</td>\n",
       "      <td>No</td>\n",
       "    </tr>\n",
       "    <tr>\n",
       "      <th>7</th>\n",
       "      <td>Strawberry</td>\n",
       "      <td>48.0</td>\n",
       "      <td>79000.0</td>\n",
       "      <td>Yes</td>\n",
       "    </tr>\n",
       "    <tr>\n",
       "      <th>8</th>\n",
       "      <td>Strawberry</td>\n",
       "      <td>50.0</td>\n",
       "      <td>83000.0</td>\n",
       "      <td>No</td>\n",
       "    </tr>\n",
       "    <tr>\n",
       "      <th>9</th>\n",
       "      <td>Apple</td>\n",
       "      <td>37.0</td>\n",
       "      <td>67000.0</td>\n",
       "      <td>Yes</td>\n",
       "    </tr>\n",
       "    <tr>\n",
       "      <th>10</th>\n",
       "      <td>Orange</td>\n",
       "      <td>47.0</td>\n",
       "      <td>63000.0</td>\n",
       "      <td>No</td>\n",
       "    </tr>\n",
       "    <tr>\n",
       "      <th>11</th>\n",
       "      <td>Mango</td>\n",
       "      <td>39.0</td>\n",
       "      <td>NaN</td>\n",
       "      <td>Yes</td>\n",
       "    </tr>\n",
       "    <tr>\n",
       "      <th>12</th>\n",
       "      <td>Mango</td>\n",
       "      <td>46.0</td>\n",
       "      <td>76000.0</td>\n",
       "      <td>No</td>\n",
       "    </tr>\n",
       "    <tr>\n",
       "      <th>13</th>\n",
       "      <td>Orange</td>\n",
       "      <td>29.0</td>\n",
       "      <td>34000.0</td>\n",
       "      <td>No</td>\n",
       "    </tr>\n",
       "    <tr>\n",
       "      <th>14</th>\n",
       "      <td>Strawberry</td>\n",
       "      <td>NaN</td>\n",
       "      <td>38500.0</td>\n",
       "      <td>Yes</td>\n",
       "    </tr>\n",
       "    <tr>\n",
       "      <th>15</th>\n",
       "      <td>Apple</td>\n",
       "      <td>24.0</td>\n",
       "      <td>38000.0</td>\n",
       "      <td>Yes</td>\n",
       "    </tr>\n",
       "  </tbody>\n",
       "</table>\n",
       "</div>"
      ],
      "text/plain": [
       "    Fruit_Name  Weight_in_Kg  Total_Cost Purchased\n",
       "0        Apple          44.0     72000.0        No\n",
       "1        Mango          27.0     48000.0       Yes\n",
       "2       Orange          30.0     54000.0        No\n",
       "3   Strawberry          38.0     61000.0        No\n",
       "4       Orange          40.0         NaN       Yes\n",
       "5        Mango          35.0     58000.0       Yes\n",
       "6        Apple           NaN     52000.0        No\n",
       "7   Strawberry          48.0     79000.0       Yes\n",
       "8   Strawberry          50.0     83000.0        No\n",
       "9        Apple          37.0     67000.0       Yes\n",
       "10      Orange          47.0     63000.0        No\n",
       "11       Mango          39.0         NaN       Yes\n",
       "12       Mango          46.0     76000.0        No\n",
       "13      Orange          29.0     34000.0        No\n",
       "14  Strawberry           NaN     38500.0       Yes\n",
       "15       Apple          24.0     38000.0       Yes"
      ]
     },
     "execution_count": 2,
     "metadata": {},
     "output_type": "execute_result"
    }
   ],
   "source": [
    "data_csv = pd.read_csv('dataset/Fruit Sales Data.csv')\n",
    "data_csv"
   ]
  },
  {
   "cell_type": "code",
   "execution_count": 3,
   "id": "a3862d75",
   "metadata": {},
   "outputs": [
    {
     "data": {
      "text/html": [
       "<div>\n",
       "<style scoped>\n",
       "    .dataframe tbody tr th:only-of-type {\n",
       "        vertical-align: middle;\n",
       "    }\n",
       "\n",
       "    .dataframe tbody tr th {\n",
       "        vertical-align: top;\n",
       "    }\n",
       "\n",
       "    .dataframe thead th {\n",
       "        text-align: right;\n",
       "    }\n",
       "</style>\n",
       "<table border=\"1\" class=\"dataframe\">\n",
       "  <thead>\n",
       "    <tr style=\"text-align: right;\">\n",
       "      <th></th>\n",
       "      <th>Fruit_Name</th>\n",
       "      <th>Weight_in_Kg</th>\n",
       "      <th>Total_Cost</th>\n",
       "      <th>Purchased</th>\n",
       "    </tr>\n",
       "  </thead>\n",
       "  <tbody>\n",
       "    <tr>\n",
       "      <th>0</th>\n",
       "      <td>Apple</td>\n",
       "      <td>44.0</td>\n",
       "      <td>72000.0</td>\n",
       "      <td>No</td>\n",
       "    </tr>\n",
       "    <tr>\n",
       "      <th>1</th>\n",
       "      <td>Mango</td>\n",
       "      <td>27.0</td>\n",
       "      <td>48000.0</td>\n",
       "      <td>Yes</td>\n",
       "    </tr>\n",
       "    <tr>\n",
       "      <th>2</th>\n",
       "      <td>Orange</td>\n",
       "      <td>30.0</td>\n",
       "      <td>54000.0</td>\n",
       "      <td>No</td>\n",
       "    </tr>\n",
       "  </tbody>\n",
       "</table>\n",
       "</div>"
      ],
      "text/plain": [
       "  Fruit_Name  Weight_in_Kg  Total_Cost Purchased\n",
       "0      Apple          44.0     72000.0        No\n",
       "1      Mango          27.0     48000.0       Yes\n",
       "2     Orange          30.0     54000.0        No"
      ]
     },
     "execution_count": 3,
     "metadata": {},
     "output_type": "execute_result"
    }
   ],
   "source": [
    "data_csv.head(3)"
   ]
  },
  {
   "cell_type": "markdown",
   "id": "abe1a819",
   "metadata": {},
   "source": [
    "### Menyeleksi Data Sesuai Kategori Misalnya Fruit_Name"
   ]
  },
  {
   "cell_type": "code",
   "execution_count": 4,
   "id": "bfc059c2",
   "metadata": {},
   "outputs": [
    {
     "data": {
      "text/plain": [
       "0          Apple\n",
       "1          Mango\n",
       "2         Orange\n",
       "3     Strawberry\n",
       "4         Orange\n",
       "5          Mango\n",
       "6          Apple\n",
       "7     Strawberry\n",
       "8     Strawberry\n",
       "9          Apple\n",
       "10        Orange\n",
       "11         Mango\n",
       "12         Mango\n",
       "13        Orange\n",
       "14    Strawberry\n",
       "15         Apple\n",
       "Name: Fruit_Name, dtype: object"
      ]
     },
     "execution_count": 4,
     "metadata": {},
     "output_type": "execute_result"
    }
   ],
   "source": [
    "data_fruit_name = data_csv['Fruit_Name']\n",
    "data_fruit_name"
   ]
  },
  {
   "cell_type": "markdown",
   "id": "776df1b3",
   "metadata": {},
   "source": [
    "### Sortir Total_Cost dari Terbesar ke Terkecil"
   ]
  },
  {
   "cell_type": "code",
   "execution_count": 5,
   "id": "3061d7c3",
   "metadata": {},
   "outputs": [
    {
     "data": {
      "text/html": [
       "<div>\n",
       "<style scoped>\n",
       "    .dataframe tbody tr th:only-of-type {\n",
       "        vertical-align: middle;\n",
       "    }\n",
       "\n",
       "    .dataframe tbody tr th {\n",
       "        vertical-align: top;\n",
       "    }\n",
       "\n",
       "    .dataframe thead th {\n",
       "        text-align: right;\n",
       "    }\n",
       "</style>\n",
       "<table border=\"1\" class=\"dataframe\">\n",
       "  <thead>\n",
       "    <tr style=\"text-align: right;\">\n",
       "      <th></th>\n",
       "      <th>Fruit_Name</th>\n",
       "      <th>Weight_in_Kg</th>\n",
       "      <th>Total_Cost</th>\n",
       "      <th>Purchased</th>\n",
       "    </tr>\n",
       "  </thead>\n",
       "  <tbody>\n",
       "    <tr>\n",
       "      <th>8</th>\n",
       "      <td>Strawberry</td>\n",
       "      <td>50.0</td>\n",
       "      <td>83000.0</td>\n",
       "      <td>No</td>\n",
       "    </tr>\n",
       "    <tr>\n",
       "      <th>7</th>\n",
       "      <td>Strawberry</td>\n",
       "      <td>48.0</td>\n",
       "      <td>79000.0</td>\n",
       "      <td>Yes</td>\n",
       "    </tr>\n",
       "    <tr>\n",
       "      <th>12</th>\n",
       "      <td>Mango</td>\n",
       "      <td>46.0</td>\n",
       "      <td>76000.0</td>\n",
       "      <td>No</td>\n",
       "    </tr>\n",
       "    <tr>\n",
       "      <th>0</th>\n",
       "      <td>Apple</td>\n",
       "      <td>44.0</td>\n",
       "      <td>72000.0</td>\n",
       "      <td>No</td>\n",
       "    </tr>\n",
       "    <tr>\n",
       "      <th>9</th>\n",
       "      <td>Apple</td>\n",
       "      <td>37.0</td>\n",
       "      <td>67000.0</td>\n",
       "      <td>Yes</td>\n",
       "    </tr>\n",
       "    <tr>\n",
       "      <th>10</th>\n",
       "      <td>Orange</td>\n",
       "      <td>47.0</td>\n",
       "      <td>63000.0</td>\n",
       "      <td>No</td>\n",
       "    </tr>\n",
       "    <tr>\n",
       "      <th>3</th>\n",
       "      <td>Strawberry</td>\n",
       "      <td>38.0</td>\n",
       "      <td>61000.0</td>\n",
       "      <td>No</td>\n",
       "    </tr>\n",
       "    <tr>\n",
       "      <th>5</th>\n",
       "      <td>Mango</td>\n",
       "      <td>35.0</td>\n",
       "      <td>58000.0</td>\n",
       "      <td>Yes</td>\n",
       "    </tr>\n",
       "    <tr>\n",
       "      <th>2</th>\n",
       "      <td>Orange</td>\n",
       "      <td>30.0</td>\n",
       "      <td>54000.0</td>\n",
       "      <td>No</td>\n",
       "    </tr>\n",
       "    <tr>\n",
       "      <th>6</th>\n",
       "      <td>Apple</td>\n",
       "      <td>NaN</td>\n",
       "      <td>52000.0</td>\n",
       "      <td>No</td>\n",
       "    </tr>\n",
       "    <tr>\n",
       "      <th>1</th>\n",
       "      <td>Mango</td>\n",
       "      <td>27.0</td>\n",
       "      <td>48000.0</td>\n",
       "      <td>Yes</td>\n",
       "    </tr>\n",
       "    <tr>\n",
       "      <th>14</th>\n",
       "      <td>Strawberry</td>\n",
       "      <td>NaN</td>\n",
       "      <td>38500.0</td>\n",
       "      <td>Yes</td>\n",
       "    </tr>\n",
       "    <tr>\n",
       "      <th>15</th>\n",
       "      <td>Apple</td>\n",
       "      <td>24.0</td>\n",
       "      <td>38000.0</td>\n",
       "      <td>Yes</td>\n",
       "    </tr>\n",
       "    <tr>\n",
       "      <th>13</th>\n",
       "      <td>Orange</td>\n",
       "      <td>29.0</td>\n",
       "      <td>34000.0</td>\n",
       "      <td>No</td>\n",
       "    </tr>\n",
       "    <tr>\n",
       "      <th>4</th>\n",
       "      <td>Orange</td>\n",
       "      <td>40.0</td>\n",
       "      <td>NaN</td>\n",
       "      <td>Yes</td>\n",
       "    </tr>\n",
       "    <tr>\n",
       "      <th>11</th>\n",
       "      <td>Mango</td>\n",
       "      <td>39.0</td>\n",
       "      <td>NaN</td>\n",
       "      <td>Yes</td>\n",
       "    </tr>\n",
       "  </tbody>\n",
       "</table>\n",
       "</div>"
      ],
      "text/plain": [
       "    Fruit_Name  Weight_in_Kg  Total_Cost Purchased\n",
       "8   Strawberry          50.0     83000.0        No\n",
       "7   Strawberry          48.0     79000.0       Yes\n",
       "12       Mango          46.0     76000.0        No\n",
       "0        Apple          44.0     72000.0        No\n",
       "9        Apple          37.0     67000.0       Yes\n",
       "10      Orange          47.0     63000.0        No\n",
       "3   Strawberry          38.0     61000.0        No\n",
       "5        Mango          35.0     58000.0       Yes\n",
       "2       Orange          30.0     54000.0        No\n",
       "6        Apple           NaN     52000.0        No\n",
       "1        Mango          27.0     48000.0       Yes\n",
       "14  Strawberry           NaN     38500.0       Yes\n",
       "15       Apple          24.0     38000.0       Yes\n",
       "13      Orange          29.0     34000.0        No\n",
       "4       Orange          40.0         NaN       Yes\n",
       "11       Mango          39.0         NaN       Yes"
      ]
     },
     "execution_count": 5,
     "metadata": {},
     "output_type": "execute_result"
    }
   ],
   "source": [
    "data_sorted = data_csv.sort_values(by='Total_Cost', ascending=False)\n",
    "data_sorted"
   ]
  },
  {
   "cell_type": "markdown",
   "id": "7024c939",
   "metadata": {},
   "source": [
    "### Data Apel yang Tidak di Beli"
   ]
  },
  {
   "cell_type": "code",
   "execution_count": 6,
   "id": "6e3872b4",
   "metadata": {},
   "outputs": [
    {
     "data": {
      "text/html": [
       "<div>\n",
       "<style scoped>\n",
       "    .dataframe tbody tr th:only-of-type {\n",
       "        vertical-align: middle;\n",
       "    }\n",
       "\n",
       "    .dataframe tbody tr th {\n",
       "        vertical-align: top;\n",
       "    }\n",
       "\n",
       "    .dataframe thead th {\n",
       "        text-align: right;\n",
       "    }\n",
       "</style>\n",
       "<table border=\"1\" class=\"dataframe\">\n",
       "  <thead>\n",
       "    <tr style=\"text-align: right;\">\n",
       "      <th></th>\n",
       "      <th>Fruit_Name</th>\n",
       "      <th>Weight_in_Kg</th>\n",
       "      <th>Total_Cost</th>\n",
       "      <th>Purchased</th>\n",
       "    </tr>\n",
       "  </thead>\n",
       "  <tbody>\n",
       "    <tr>\n",
       "      <th>0</th>\n",
       "      <td>Apple</td>\n",
       "      <td>44.0</td>\n",
       "      <td>72000.0</td>\n",
       "      <td>No</td>\n",
       "    </tr>\n",
       "    <tr>\n",
       "      <th>6</th>\n",
       "      <td>Apple</td>\n",
       "      <td>NaN</td>\n",
       "      <td>52000.0</td>\n",
       "      <td>No</td>\n",
       "    </tr>\n",
       "  </tbody>\n",
       "</table>\n",
       "</div>"
      ],
      "text/plain": [
       "  Fruit_Name  Weight_in_Kg  Total_Cost Purchased\n",
       "0      Apple          44.0     72000.0        No\n",
       "6      Apple           NaN     52000.0        No"
      ]
     },
     "execution_count": 6,
     "metadata": {},
     "output_type": "execute_result"
    }
   ],
   "source": [
    "unpurchased_apple_data = data_csv.loc[(data_csv.Fruit_Name == 'Apple') & (data_csv.Purchased == \"No\")]\n",
    "unpurchased_apple_data"
   ]
  },
  {
   "cell_type": "markdown",
   "id": "cf11b6c7",
   "metadata": {},
   "source": [
    "### Data Mangga yang Tidak di Beli"
   ]
  },
  {
   "cell_type": "code",
   "execution_count": 7,
   "id": "6a4ede59",
   "metadata": {},
   "outputs": [
    {
     "data": {
      "text/html": [
       "<div>\n",
       "<style scoped>\n",
       "    .dataframe tbody tr th:only-of-type {\n",
       "        vertical-align: middle;\n",
       "    }\n",
       "\n",
       "    .dataframe tbody tr th {\n",
       "        vertical-align: top;\n",
       "    }\n",
       "\n",
       "    .dataframe thead th {\n",
       "        text-align: right;\n",
       "    }\n",
       "</style>\n",
       "<table border=\"1\" class=\"dataframe\">\n",
       "  <thead>\n",
       "    <tr style=\"text-align: right;\">\n",
       "      <th></th>\n",
       "      <th>Fruit_Name</th>\n",
       "      <th>Weight_in_Kg</th>\n",
       "      <th>Total_Cost</th>\n",
       "      <th>Purchased</th>\n",
       "    </tr>\n",
       "  </thead>\n",
       "  <tbody>\n",
       "    <tr>\n",
       "      <th>2</th>\n",
       "      <td>Orange</td>\n",
       "      <td>30.0</td>\n",
       "      <td>54000.0</td>\n",
       "      <td>No</td>\n",
       "    </tr>\n",
       "    <tr>\n",
       "      <th>10</th>\n",
       "      <td>Orange</td>\n",
       "      <td>47.0</td>\n",
       "      <td>63000.0</td>\n",
       "      <td>No</td>\n",
       "    </tr>\n",
       "    <tr>\n",
       "      <th>13</th>\n",
       "      <td>Orange</td>\n",
       "      <td>29.0</td>\n",
       "      <td>34000.0</td>\n",
       "      <td>No</td>\n",
       "    </tr>\n",
       "  </tbody>\n",
       "</table>\n",
       "</div>"
      ],
      "text/plain": [
       "   Fruit_Name  Weight_in_Kg  Total_Cost Purchased\n",
       "2      Orange          30.0     54000.0        No\n",
       "10     Orange          47.0     63000.0        No\n",
       "13     Orange          29.0     34000.0        No"
      ]
     },
     "execution_count": 7,
     "metadata": {},
     "output_type": "execute_result"
    }
   ],
   "source": [
    "unpurchased_orange_data = data_csv.loc[(data_csv.Fruit_Name == 'Orange') & (data_csv.Purchased == \"No\")]\n",
    "unpurchased_orange_data"
   ]
  },
  {
   "cell_type": "markdown",
   "id": "46694637",
   "metadata": {},
   "source": [
    "### Data Strawberry yang di Beli"
   ]
  },
  {
   "cell_type": "code",
   "execution_count": 8,
   "id": "e10f4a08",
   "metadata": {},
   "outputs": [
    {
     "data": {
      "text/html": [
       "<div>\n",
       "<style scoped>\n",
       "    .dataframe tbody tr th:only-of-type {\n",
       "        vertical-align: middle;\n",
       "    }\n",
       "\n",
       "    .dataframe tbody tr th {\n",
       "        vertical-align: top;\n",
       "    }\n",
       "\n",
       "    .dataframe thead th {\n",
       "        text-align: right;\n",
       "    }\n",
       "</style>\n",
       "<table border=\"1\" class=\"dataframe\">\n",
       "  <thead>\n",
       "    <tr style=\"text-align: right;\">\n",
       "      <th></th>\n",
       "      <th>Fruit_Name</th>\n",
       "      <th>Weight_in_Kg</th>\n",
       "      <th>Total_Cost</th>\n",
       "      <th>Purchased</th>\n",
       "    </tr>\n",
       "  </thead>\n",
       "  <tbody>\n",
       "    <tr>\n",
       "      <th>7</th>\n",
       "      <td>Strawberry</td>\n",
       "      <td>48.0</td>\n",
       "      <td>79000.0</td>\n",
       "      <td>Yes</td>\n",
       "    </tr>\n",
       "    <tr>\n",
       "      <th>14</th>\n",
       "      <td>Strawberry</td>\n",
       "      <td>NaN</td>\n",
       "      <td>38500.0</td>\n",
       "      <td>Yes</td>\n",
       "    </tr>\n",
       "  </tbody>\n",
       "</table>\n",
       "</div>"
      ],
      "text/plain": [
       "    Fruit_Name  Weight_in_Kg  Total_Cost Purchased\n",
       "7   Strawberry          48.0     79000.0       Yes\n",
       "14  Strawberry           NaN     38500.0       Yes"
      ]
     },
     "execution_count": 8,
     "metadata": {},
     "output_type": "execute_result"
    }
   ],
   "source": [
    "purchased_strawberry_data = data_csv.loc[(data_csv.Fruit_Name == 'Strawberry') & (data_csv.Purchased == \"Yes\")]\n",
    "purchased_strawberry_data"
   ]
  },
  {
   "cell_type": "markdown",
   "id": "e9de3051",
   "metadata": {},
   "source": [
    "### Total Buah yang di Beli"
   ]
  },
  {
   "cell_type": "code",
   "execution_count": 9,
   "id": "88fa5886",
   "metadata": {},
   "outputs": [
    {
     "name": "stdout",
     "output_type": "stream",
     "text": [
      "Number of fruits purchased: 8\n"
     ]
    }
   ],
   "source": [
    "num_fruits_purchased = data_csv[data_csv['Purchased'] == 'Yes'].shape[0]\n",
    "print(\"Number of fruits purchased:\", num_fruits_purchased)"
   ]
  },
  {
   "cell_type": "markdown",
   "id": "601e6b81",
   "metadata": {},
   "source": [
    "### Menampilkan Bar Chart Untuk Menghitung Jumlah Buah"
   ]
  },
  {
   "cell_type": "code",
   "execution_count": 10,
   "id": "bdeeab1e",
   "metadata": {},
   "outputs": [
    {
     "data": {
      "text/plain": [
       "<Axes: xlabel='Fruit_Name'>"
      ]
     },
     "execution_count": 10,
     "metadata": {},
     "output_type": "execute_result"
    },
    {
     "data": {
      "image/png": "[encoded data removed]",
      "text/plain": [
       "<Figure size 1000x500 with 1 Axes>"
      ]
     },
     "metadata": {},
     "output_type": "display_data"
    }
   ],
   "source": [
    "data_fruit_name.value_counts()\n",
    "data_fruit_name.value_counts().plot(kind='bar', figsize=(10, 5), color='skyblue')"
   ]
  },
  {
   "cell_type": "markdown",
   "id": "945d8ad4",
   "metadata": {},
   "source": [
    "### Bersihkan Data untuk Purchased"
   ]
  },
  {
   "cell_type": "code",
   "execution_count": 11,
   "id": "70ef78c8",
   "metadata": {},
   "outputs": [],
   "source": [
    "data_csv['Purchased'] = data_csv['Purchased'].str.strip().str.capitalize()"
   ]
  },
  {
   "cell_type": "markdown",
   "id": "26f9e1af",
   "metadata": {},
   "source": [
    "### Menampilkan Bar Chart Untuk Menampilkan Jumlah Data pada Setiap Kategori"
   ]
  },
  {
   "cell_type": "code",
   "execution_count": 12,
   "id": "6ae3d819",
   "metadata": {},
   "outputs": [
    {
     "name": "stderr",
     "output_type": "stream",
     "text": [
      "C:\\Users\\USER\\AppData\\Local\\Temp\\ipykernel_12072\\4060843957.py:1: FutureWarning: \n",
      "\n",
      "Passing `palette` without assigning `hue` is deprecated and will be removed in v0.14.0. Assign the `x` variable to `hue` and set `legend=False` for the same effect.\n",
      "\n",
      "  sns.countplot(data=data_csv, x='Purchased', palette='pastel')\n"
     ]
    },
    {
     "data": {
      "image/png": "[encoded data removed]",
      "text/plain": [
       "<Figure size 640x480 with 1 Axes>"
      ]
     },
     "metadata": {},
     "output_type": "display_data"
    }
   ],
   "source": [
    "sns.countplot(data=data_csv, x='Purchased', palette='pastel')\n",
    "plt.title('Number of Purchases vs Non-Purchases')\n",
    "plt.xlabel('Purchased')\n",
    "plt.ylabel('Count')\n",
    "plt.show()"
   ]
  },
  {
   "cell_type": "markdown",
   "id": "c558cc5e",
   "metadata": {},
   "source": [
    "### Mengabungkan Data CSV"
   ]
  },
  {
   "cell_type": "code",
   "execution_count": 13,
   "id": "e6d2c60a",
   "metadata": {},
   "outputs": [
    {
     "data": {
      "text/html": [
       "<div>\n",
       "<style scoped>\n",
       "    .dataframe tbody tr th:only-of-type {\n",
       "        vertical-align: middle;\n",
       "    }\n",
       "\n",
       "    .dataframe tbody tr th {\n",
       "        vertical-align: top;\n",
       "    }\n",
       "\n",
       "    .dataframe thead th {\n",
       "        text-align: right;\n",
       "    }\n",
       "</style>\n",
       "<table border=\"1\" class=\"dataframe\">\n",
       "  <thead>\n",
       "    <tr style=\"text-align: right;\">\n",
       "      <th></th>\n",
       "      <th>Fruit_Name</th>\n",
       "      <th>Weight_in_Kg</th>\n",
       "      <th>Total_Cost</th>\n",
       "      <th>Purchased</th>\n",
       "    </tr>\n",
       "  </thead>\n",
       "  <tbody>\n",
       "    <tr>\n",
       "      <th>0</th>\n",
       "      <td>Apple</td>\n",
       "      <td>44.0</td>\n",
       "      <td>72000.0</td>\n",
       "      <td>No</td>\n",
       "    </tr>\n",
       "    <tr>\n",
       "      <th>1</th>\n",
       "      <td>Mango</td>\n",
       "      <td>27.0</td>\n",
       "      <td>48000.0</td>\n",
       "      <td>Yes</td>\n",
       "    </tr>\n",
       "    <tr>\n",
       "      <th>2</th>\n",
       "      <td>Orange</td>\n",
       "      <td>30.0</td>\n",
       "      <td>54000.0</td>\n",
       "      <td>No</td>\n",
       "    </tr>\n",
       "    <tr>\n",
       "      <th>3</th>\n",
       "      <td>Strawberry</td>\n",
       "      <td>38.0</td>\n",
       "      <td>61000.0</td>\n",
       "      <td>No</td>\n",
       "    </tr>\n",
       "    <tr>\n",
       "      <th>4</th>\n",
       "      <td>Orange</td>\n",
       "      <td>40.0</td>\n",
       "      <td>NaN</td>\n",
       "      <td>Yes</td>\n",
       "    </tr>\n",
       "    <tr>\n",
       "      <th>5</th>\n",
       "      <td>Mango</td>\n",
       "      <td>35.0</td>\n",
       "      <td>58000.0</td>\n",
       "      <td>Yes</td>\n",
       "    </tr>\n",
       "    <tr>\n",
       "      <th>6</th>\n",
       "      <td>Apple</td>\n",
       "      <td>NaN</td>\n",
       "      <td>52000.0</td>\n",
       "      <td>No</td>\n",
       "    </tr>\n",
       "    <tr>\n",
       "      <th>7</th>\n",
       "      <td>Strawberry</td>\n",
       "      <td>48.0</td>\n",
       "      <td>79000.0</td>\n",
       "      <td>Yes</td>\n",
       "    </tr>\n",
       "    <tr>\n",
       "      <th>8</th>\n",
       "      <td>Strawberry</td>\n",
       "      <td>50.0</td>\n",
       "      <td>83000.0</td>\n",
       "      <td>No</td>\n",
       "    </tr>\n",
       "    <tr>\n",
       "      <th>9</th>\n",
       "      <td>Apple</td>\n",
       "      <td>37.0</td>\n",
       "      <td>67000.0</td>\n",
       "      <td>Yes</td>\n",
       "    </tr>\n",
       "    <tr>\n",
       "      <th>10</th>\n",
       "      <td>Orange</td>\n",
       "      <td>47.0</td>\n",
       "      <td>63000.0</td>\n",
       "      <td>No</td>\n",
       "    </tr>\n",
       "    <tr>\n",
       "      <th>11</th>\n",
       "      <td>Mango</td>\n",
       "      <td>39.0</td>\n",
       "      <td>NaN</td>\n",
       "      <td>Yes</td>\n",
       "    </tr>\n",
       "    <tr>\n",
       "      <th>12</th>\n",
       "      <td>Mango</td>\n",
       "      <td>46.0</td>\n",
       "      <td>76000.0</td>\n",
       "      <td>No</td>\n",
       "    </tr>\n",
       "    <tr>\n",
       "      <th>13</th>\n",
       "      <td>Orange</td>\n",
       "      <td>29.0</td>\n",
       "      <td>34000.0</td>\n",
       "      <td>No</td>\n",
       "    </tr>\n",
       "    <tr>\n",
       "      <th>14</th>\n",
       "      <td>Strawberry</td>\n",
       "      <td>NaN</td>\n",
       "      <td>38500.0</td>\n",
       "      <td>Yes</td>\n",
       "    </tr>\n",
       "    <tr>\n",
       "      <th>15</th>\n",
       "      <td>Apple</td>\n",
       "      <td>24.0</td>\n",
       "      <td>38000.0</td>\n",
       "      <td>Yes</td>\n",
       "    </tr>\n",
       "    <tr>\n",
       "      <th>0</th>\n",
       "      <td>Durian</td>\n",
       "      <td>40.0</td>\n",
       "      <td>79000.0</td>\n",
       "      <td>Yes</td>\n",
       "    </tr>\n",
       "    <tr>\n",
       "      <th>1</th>\n",
       "      <td>Melon</td>\n",
       "      <td>10.0</td>\n",
       "      <td>83000.0</td>\n",
       "      <td>Yes</td>\n",
       "    </tr>\n",
       "    <tr>\n",
       "      <th>2</th>\n",
       "      <td>Apple</td>\n",
       "      <td>47.0</td>\n",
       "      <td>67000.0</td>\n",
       "      <td>Yes</td>\n",
       "    </tr>\n",
       "    <tr>\n",
       "      <th>3</th>\n",
       "      <td>Orange</td>\n",
       "      <td>70.0</td>\n",
       "      <td>63000.0</td>\n",
       "      <td>No</td>\n",
       "    </tr>\n",
       "    <tr>\n",
       "      <th>4</th>\n",
       "      <td>Melon</td>\n",
       "      <td>59.0</td>\n",
       "      <td>NaN</td>\n",
       "      <td>Yes</td>\n",
       "    </tr>\n",
       "    <tr>\n",
       "      <th>5</th>\n",
       "      <td>Durian</td>\n",
       "      <td>40.0</td>\n",
       "      <td>76000.0</td>\n",
       "      <td>Yes</td>\n",
       "    </tr>\n",
       "    <tr>\n",
       "      <th>6</th>\n",
       "      <td>Melon</td>\n",
       "      <td>20.0</td>\n",
       "      <td>34000.0</td>\n",
       "      <td>No</td>\n",
       "    </tr>\n",
       "    <tr>\n",
       "      <th>7</th>\n",
       "      <td>Avocado</td>\n",
       "      <td>21.0</td>\n",
       "      <td>38500.0</td>\n",
       "      <td>Yes</td>\n",
       "    </tr>\n",
       "    <tr>\n",
       "      <th>8</th>\n",
       "      <td>Apple</td>\n",
       "      <td>24.0</td>\n",
       "      <td>38000.0</td>\n",
       "      <td>Yes</td>\n",
       "    </tr>\n",
       "  </tbody>\n",
       "</table>\n",
       "</div>"
      ],
      "text/plain": [
       "    Fruit_Name  Weight_in_Kg  Total_Cost Purchased\n",
       "0        Apple          44.0     72000.0        No\n",
       "1        Mango          27.0     48000.0       Yes\n",
       "2       Orange          30.0     54000.0        No\n",
       "3   Strawberry          38.0     61000.0        No\n",
       "4       Orange          40.0         NaN       Yes\n",
       "5        Mango          35.0     58000.0       Yes\n",
       "6        Apple           NaN     52000.0        No\n",
       "7   Strawberry          48.0     79000.0       Yes\n",
       "8   Strawberry          50.0     83000.0        No\n",
       "9        Apple          37.0     67000.0       Yes\n",
       "10      Orange          47.0     63000.0        No\n",
       "11       Mango          39.0         NaN       Yes\n",
       "12       Mango          46.0     76000.0        No\n",
       "13      Orange          29.0     34000.0        No\n",
       "14  Strawberry           NaN     38500.0       Yes\n",
       "15       Apple          24.0     38000.0       Yes\n",
       "0       Durian          40.0     79000.0       Yes\n",
       "1        Melon          10.0     83000.0       Yes\n",
       "2        Apple          47.0     67000.0       Yes\n",
       "3       Orange          70.0     63000.0        No\n",
       "4        Melon          59.0         NaN       Yes\n",
       "5       Durian          40.0     76000.0       Yes\n",
       "6        Melon          20.0     34000.0        No\n",
       "7      Avocado          21.0     38500.0       Yes\n",
       "8        Apple          24.0     38000.0       Yes"
      ]
     },
     "execution_count": 13,
     "metadata": {},
     "output_type": "execute_result"
    }
   ],
   "source": [
    "data_csv1 = pd.read_csv('dataset/Fruit Sales Data.csv')\n",
    "data_csv2 = pd.read_csv('dataset/Fruit Sales Data Branch Jogja.csv')\n",
    "\n",
    "data_all= pd.concat([data_csv1, data_csv2])\n",
    "data_all"
   ]
  },
  {
   "cell_type": "code",
   "execution_count": 14,
   "id": "e2ad7953",
   "metadata": {},
   "outputs": [
    {
     "data": {
      "text/html": [
       "<div>\n",
       "<style scoped>\n",
       "    .dataframe tbody tr th:only-of-type {\n",
       "        vertical-align: middle;\n",
       "    }\n",
       "\n",
       "    .dataframe tbody tr th {\n",
       "        vertical-align: top;\n",
       "    }\n",
       "\n",
       "    .dataframe thead th {\n",
       "        text-align: right;\n",
       "    }\n",
       "</style>\n",
       "<table border=\"1\" class=\"dataframe\">\n",
       "  <thead>\n",
       "    <tr style=\"text-align: right;\">\n",
       "      <th></th>\n",
       "      <th>Fruit_Name</th>\n",
       "      <th>Weight_in_Kg</th>\n",
       "      <th>Total_Cost</th>\n",
       "      <th>Purchased</th>\n",
       "    </tr>\n",
       "  </thead>\n",
       "  <tbody>\n",
       "    <tr>\n",
       "      <th>0</th>\n",
       "      <td>Durian</td>\n",
       "      <td>40</td>\n",
       "      <td>79000.0</td>\n",
       "      <td>Yes</td>\n",
       "    </tr>\n",
       "    <tr>\n",
       "      <th>1</th>\n",
       "      <td>Melon</td>\n",
       "      <td>10</td>\n",
       "      <td>83000.0</td>\n",
       "      <td>Yes</td>\n",
       "    </tr>\n",
       "    <tr>\n",
       "      <th>2</th>\n",
       "      <td>Apple</td>\n",
       "      <td>47</td>\n",
       "      <td>67000.0</td>\n",
       "      <td>Yes</td>\n",
       "    </tr>\n",
       "    <tr>\n",
       "      <th>3</th>\n",
       "      <td>Orange</td>\n",
       "      <td>70</td>\n",
       "      <td>63000.0</td>\n",
       "      <td>No</td>\n",
       "    </tr>\n",
       "    <tr>\n",
       "      <th>4</th>\n",
       "      <td>Melon</td>\n",
       "      <td>59</td>\n",
       "      <td>NaN</td>\n",
       "      <td>Yes</td>\n",
       "    </tr>\n",
       "    <tr>\n",
       "      <th>5</th>\n",
       "      <td>Durian</td>\n",
       "      <td>40</td>\n",
       "      <td>76000.0</td>\n",
       "      <td>Yes</td>\n",
       "    </tr>\n",
       "    <tr>\n",
       "      <th>6</th>\n",
       "      <td>Melon</td>\n",
       "      <td>20</td>\n",
       "      <td>34000.0</td>\n",
       "      <td>No</td>\n",
       "    </tr>\n",
       "    <tr>\n",
       "      <th>7</th>\n",
       "      <td>Avocado</td>\n",
       "      <td>21</td>\n",
       "      <td>38500.0</td>\n",
       "      <td>Yes</td>\n",
       "    </tr>\n",
       "    <tr>\n",
       "      <th>8</th>\n",
       "      <td>Apple</td>\n",
       "      <td>24</td>\n",
       "      <td>38000.0</td>\n",
       "      <td>Yes</td>\n",
       "    </tr>\n",
       "  </tbody>\n",
       "</table>\n",
       "</div>"
      ],
      "text/plain": [
       "  Fruit_Name  Weight_in_Kg  Total_Cost Purchased\n",
       "0     Durian            40     79000.0       Yes\n",
       "1      Melon            10     83000.0       Yes\n",
       "2      Apple            47     67000.0       Yes\n",
       "3     Orange            70     63000.0        No\n",
       "4      Melon            59         NaN       Yes\n",
       "5     Durian            40     76000.0       Yes\n",
       "6      Melon            20     34000.0        No\n",
       "7    Avocado            21     38500.0       Yes\n",
       "8      Apple            24     38000.0       Yes"
      ]
     },
     "execution_count": 14,
     "metadata": {},
     "output_type": "execute_result"
    }
   ],
   "source": [
    "data_csv2"
   ]
  },
  {
   "cell_type": "markdown",
   "id": "87c85d78",
   "metadata": {},
   "source": [
    "### Total Nama Buah dari Data_All"
   ]
  },
  {
   "cell_type": "code",
   "execution_count": 15,
   "id": "32758bd9",
   "metadata": {},
   "outputs": [
    {
     "name": "stdout",
     "output_type": "stream",
     "text": [
      "Total unique fruit names in data_all: 7\n"
     ]
    }
   ],
   "source": [
    "total_fruit_name = data_all['Fruit_Name'].nunique()\n",
    "print(\"Total unique fruit names in data_all:\", total_fruit_name)"
   ]
  },
  {
   "cell_type": "markdown",
   "id": "9d60e9c1",
   "metadata": {},
   "source": [
    "### Nama Buah Dengan Jumlah Weight_In_KG == 40"
   ]
  },
  {
   "cell_type": "code",
   "execution_count": 16,
   "id": "a56f3172",
   "metadata": {},
   "outputs": [
    {
     "name": "stdout",
     "output_type": "stream",
     "text": [
      "Nama buah dengan jumlah weight_in_kg 40: ['Orange' 'Durian']\n"
     ]
    }
   ],
   "source": [
    "fruits_with_40kg = data_all[data_all['Weight_in_Kg'] == 40]['Fruit_Name'].unique()\n",
    "print(\"Nama buah dengan jumlah weight_in_kg 40:\", fruits_with_40kg)"
   ]
  },
  {
   "cell_type": "markdown",
   "id": "12ea744c",
   "metadata": {},
   "source": [
    "### Diagram Line Plot Untuk Membandingkan Total Cost dari Setiap Fruit Name Berdasarkan Purchased: Yes/No"
   ]
  },
  {
   "cell_type": "code",
   "execution_count": 18,
   "id": "66a8dd01",
   "metadata": {},
   "outputs": [
    {
     "data": {
      "image/png": "[encoded data removed]",
      "text/plain": [
       "<Figure size 1200x600 with 1 Axes>"
      ]
     },
     "metadata": {},
     "output_type": "display_data"
    }
   ],
   "source": [
    "# Agregasi data\n",
    "agg_data = data_all.groupby(['Fruit_Name', 'Purchased'], as_index=False)['Total_Cost'].sum()\n",
    "\n",
    "plt.figure(figsize=(12, 6))\n",
    "sns.lineplot(data=agg_data, x='Fruit_Name', y='Total_Cost', hue='Purchased', marker='o')\n",
    "plt.title('Total Cost per Fruit Name (data_all)')\n",
    "plt.xlabel('Fruit Name')\n",
    "plt.ylabel('Total Cost')\n",
    "plt.legend(title='Purchased')\n",
    "plt.show()"
   ]
  },
  {
   "cell_type": "markdown",
   "id": "2f06da30",
   "metadata": {},
   "source": [
    "### Terima Kasih\n",
    "\n",
    "<img src=\"https://i.pinimg.com/736x/78/fc/68/78fc687dc57910ef4348c7c0003f9785.jpg\" alt=\"Sakurajima mai\">\n"
   ]
  }
 ],
 "metadata": {
  "kernelspec": {
   "display_name": "Python 3",
   "language": "python",
   "name": "python3"
  },
  "language_info": {
   "codemirror_mode": {
    "name": "ipython",
    "version": 3
   },
   "file_extension": ".py",
   "mimetype": "text/x-python",
   "name": "python",
   "nbconvert_exporter": "python",
   "pygments_lexer": "ipython3",
   "version": "3.13.3"
  }
 },
 "nbformat": 4,
 "nbformat_minor": 5
}
